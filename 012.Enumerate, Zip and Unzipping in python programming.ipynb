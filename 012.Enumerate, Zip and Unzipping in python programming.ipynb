{
 "cells": [
  {
   "cell_type": "markdown",
   "metadata": {},
   "source": [
    "# What you will learn in this lesson\n",
    "\n",
    "1. Defining functions\n",
    "\n",
    "2. Variable scope\n",
    "\n",
    "3. Documentation\n",
    "\n",
    "4. Lamda expressions\n",
    "\n",
    "5. high level functions\n",
    "\n",
    "6. List comprehentions"
   ]
  },
  {
   "cell_type": "markdown",
   "metadata": {},
   "source": [
    "## Zip and Enumerate"
   ]
  },
  {
   "cell_type": "markdown",
   "metadata": {},
   "source": [
    "## zip()"
   ]
  },
  {
   "cell_type": "markdown",
   "metadata": {},
   "source": [
    "**zip** and **enumerate** are useful built-in functions that can come in handy when dealing with loops.\n",
    "They help to simplify tasks.\n",
    "\n",
    "**zip** returns an iterator that combines multiple iterables into one sequence of tuples. Each tuple contains the elements in that position from all the iterables."
   ]
  },
  {
   "cell_type": "markdown",
   "metadata": {},
   "source": [
    "### zip()"
   ]
  },
  {
   "cell_type": "code",
   "execution_count": 4,
   "metadata": {},
   "outputs": [],
   "source": [
    "country = ['Ghana','Togo','Nigeria','Ivory Coast','South Africa']\n",
    "\n",
    "capital = ['Accra', 'Lome', 'Abuja','Abidjan','Johannesburg']\n",
    "\n",
    "currency = ['Cedis','CFA','Naira','CFA','Rand']\n",
    "\n"
   ]
  },
  {
   "cell_type": "code",
   "execution_count": 7,
   "metadata": {},
   "outputs": [
    {
     "data": {
      "text/plain": [
       "<zip at 0x1d284c61140>"
      ]
     },
     "execution_count": 7,
     "metadata": {},
     "output_type": "execute_result"
    }
   ],
   "source": [
    "zip(country,capital,currency)"
   ]
  },
  {
   "cell_type": "code",
   "execution_count": 8,
   "metadata": {},
   "outputs": [
    {
     "data": {
      "text/plain": [
       "[('Ghana', 'Accra', 'Cedis'),\n",
       " ('Togo', 'Lome', 'CFA'),\n",
       " ('Nigeria', 'Abuja', 'Naira'),\n",
       " ('Ivory Coast', 'Abidjan', 'CFA')]"
      ]
     },
     "execution_count": 8,
     "metadata": {},
     "output_type": "execute_result"
    }
   ],
   "source": [
    "list(zip(country,capital,currency))"
   ]
  },
  {
   "cell_type": "code",
   "execution_count": null,
   "metadata": {},
   "outputs": [],
   "source": []
  },
  {
   "cell_type": "code",
   "execution_count": 9,
   "metadata": {},
   "outputs": [
    {
     "data": {
      "text/plain": [
       "[('a', 1), ('b', 2), ('c', 3)]"
      ]
     },
     "execution_count": 9,
     "metadata": {},
     "output_type": "execute_result"
    }
   ],
   "source": [
    "#example\n",
    "list(zip(['a', 'b', 'c'], [1, 2, 3])) "
   ]
  },
  {
   "cell_type": "code",
   "execution_count": 10,
   "metadata": {},
   "outputs": [],
   "source": [
    "l = ('a','e','r','t')\n",
    "n =(3,4,5,6,)"
   ]
  },
  {
   "cell_type": "code",
   "execution_count": 11,
   "metadata": {},
   "outputs": [
    {
     "data": {
      "text/plain": [
       "[('a', 3), ('e', 4), ('r', 5), ('t', 6)]"
      ]
     },
     "execution_count": 11,
     "metadata": {},
     "output_type": "execute_result"
    }
   ],
   "source": [
    "list(zip(l,n))"
   ]
  },
  {
   "cell_type": "code",
   "execution_count": null,
   "metadata": {},
   "outputs": [],
   "source": []
  },
  {
   "cell_type": "markdown",
   "metadata": {},
   "source": [
    "### Using the for loop with zip"
   ]
  },
  {
   "cell_type": "code",
   "execution_count": 36,
   "metadata": {},
   "outputs": [],
   "source": [
    "countries = ['Ghana','Togo','Nigeria','Ivory Coast','South Africa']\n",
    "\n",
    "capitals = ['Accra', 'Lome', 'Abuja','Abidjan','Johannesburg']\n",
    "\n",
    "currencies = ['Cedis','CFA','Naira','CFA','Rand']"
   ]
  },
  {
   "cell_type": "code",
   "execution_count": 47,
   "metadata": {},
   "outputs": [
    {
     "name": "stdout",
     "output_type": "stream",
     "text": [
      "Ghana Accra Cedis\n",
      "Togo Lome CFA\n",
      "Nigeria Abuja Naira\n",
      "Ivory Coast Abidjan CFA\n",
      "South Africa Johannesburg Rand\n"
     ]
    }
   ],
   "source": [
    "for country, capital,currency in list(zip(countries,capitals,currencies)):\n",
    "    print(country, capital,currency)"
   ]
  },
  {
   "cell_type": "code",
   "execution_count": null,
   "metadata": {},
   "outputs": [],
   "source": [
    "for country, capital,currency in list(zip(countries,capitals,currencies)):\n",
    "    if country == 'Ghana':\n",
    "        print(country, capital,currency)"
   ]
  },
  {
   "cell_type": "code",
   "execution_count": 25,
   "metadata": {
    "scrolled": true
   },
   "outputs": [
    {
     "name": "stdout",
     "output_type": "stream",
     "text": [
      "Ghana : Accra : Cedis \n",
      "Togo : Lome : CFA \n",
      "Nigeria : Abuja : Naira \n",
      "Ivory Coast : Abidjan : CFA \n",
      "South Africa : Johannesburg : Rand \n"
     ]
    }
   ],
   "source": [
    "for country,capital,currency in zip(countries,capitals,currencies):\n",
    "    print(\"{} : {} : {} \".format(country,capital,currency))"
   ]
  },
  {
   "cell_type": "code",
   "execution_count": null,
   "metadata": {},
   "outputs": [],
   "source": []
  },
  {
   "cell_type": "markdown",
   "metadata": {},
   "source": [
    "### Unzipping"
   ]
  },
  {
   "cell_type": "code",
   "execution_count": 43,
   "metadata": {},
   "outputs": [],
   "source": [
    "countries = ['Ghana','Togo','Nigeria','Ivory Coast','South Africa']\n",
    "\n",
    "capitals = ['Accra', 'Lome', 'Abuja','Abidjan','Johannesburg']\n",
    "\n",
    "currencies = ['Cedis','CFA','Naira','CFA','Rand']"
   ]
  },
  {
   "cell_type": "code",
   "execution_count": 37,
   "metadata": {},
   "outputs": [],
   "source": [
    "zipped_countries = list(zip(countries,capitals,currencies))"
   ]
  },
  {
   "cell_type": "code",
   "execution_count": 38,
   "metadata": {},
   "outputs": [
    {
     "data": {
      "text/plain": [
       "[('Ghana', 'Accra', 'Cedis'),\n",
       " ('Togo', 'Lome', 'CFA'),\n",
       " ('Nigeria', 'Abuja', 'Naira'),\n",
       " ('Ivory Coast', 'Abidjan', 'CFA'),\n",
       " ('South Africa', 'Johannesburg', 'Rand')]"
      ]
     },
     "execution_count": 38,
     "metadata": {},
     "output_type": "execute_result"
    }
   ],
   "source": [
    "zipped_countries"
   ]
  },
  {
   "cell_type": "code",
   "execution_count": 44,
   "metadata": {},
   "outputs": [],
   "source": [
    "country_, capital_, currency_ = zip(*zipped_countries)"
   ]
  },
  {
   "cell_type": "code",
   "execution_count": 45,
   "metadata": {},
   "outputs": [
    {
     "data": {
      "text/plain": [
       "('Ghana', 'Togo', 'Nigeria', 'Ivory Coast', 'South Africa')"
      ]
     },
     "execution_count": 45,
     "metadata": {},
     "output_type": "execute_result"
    }
   ],
   "source": [
    "country_"
   ]
  },
  {
   "cell_type": "code",
   "execution_count": 41,
   "metadata": {},
   "outputs": [
    {
     "data": {
      "text/plain": [
       "('Accra', 'Lome', 'Abuja', 'Abidjan', 'Johannesburg')"
      ]
     },
     "execution_count": 41,
     "metadata": {},
     "output_type": "execute_result"
    }
   ],
   "source": [
    "capital_"
   ]
  },
  {
   "cell_type": "code",
   "execution_count": 42,
   "metadata": {},
   "outputs": [
    {
     "data": {
      "text/plain": [
       "('Cedis', 'CFA', 'Naira', 'CFA', 'Rand')"
      ]
     },
     "execution_count": 42,
     "metadata": {},
     "output_type": "execute_result"
    }
   ],
   "source": [
    "currency_"
   ]
  },
  {
   "cell_type": "code",
   "execution_count": 32,
   "metadata": {},
   "outputs": [
    {
     "data": {
      "text/plain": [
       "[('a', 1), ('b', 2), ('c', 3)]"
      ]
     },
     "execution_count": 32,
     "metadata": {},
     "output_type": "execute_result"
    }
   ],
   "source": [
    "#example\n",
    "list(zip(['a', 'b', 'c'], [1, 2, 3])) "
   ]
  },
  {
   "cell_type": "code",
   "execution_count": 33,
   "metadata": {},
   "outputs": [],
   "source": [
    "my_list = [('a', 1), ('b', 2), ('c', 3)]\n",
    "\n",
    "letters, nums = zip(*my_list)              # To unzip a data structure bring a * before the input."
   ]
  },
  {
   "cell_type": "code",
   "execution_count": 30,
   "metadata": {},
   "outputs": [
    {
     "data": {
      "text/plain": [
       "('a', 'b', 'c')"
      ]
     },
     "execution_count": 30,
     "metadata": {},
     "output_type": "execute_result"
    }
   ],
   "source": [
    "letters"
   ]
  },
  {
   "cell_type": "code",
   "execution_count": 31,
   "metadata": {},
   "outputs": [
    {
     "data": {
      "text/plain": [
       "(1, 2, 3)"
      ]
     },
     "execution_count": 31,
     "metadata": {},
     "output_type": "execute_result"
    }
   ],
   "source": [
    "nums"
   ]
  },
  {
   "cell_type": "markdown",
   "metadata": {},
   "source": [
    "### Enumerate()"
   ]
  },
  {
   "cell_type": "markdown",
   "metadata": {},
   "source": [
    "**enumerate** is a built in function that returns an iterator \n",
    "\n",
    "of tuples containing indices and values of a list.\n",
    "\n",
    "You'll often use enumerate when you want the index along with each \n",
    "\n",
    "element of an iterable in a loop.\n"
   ]
  },
  {
   "cell_type": "code",
   "execution_count": 48,
   "metadata": {},
   "outputs": [
    {
     "data": {
      "text/plain": [
       "[(0, 'a'), (1, 'b'), (2, 'c'), (3, 'd'), (4, 'e')]"
      ]
     },
     "execution_count": 48,
     "metadata": {},
     "output_type": "execute_result"
    }
   ],
   "source": [
    "letters = ['a', 'b', 'c', 'd', 'e']\n",
    "list(enumerate(letters))"
   ]
  },
  {
   "cell_type": "code",
   "execution_count": 49,
   "metadata": {},
   "outputs": [],
   "source": [
    "tuple_1 = (67,65,90,87) # tuple unpacking\n",
    "x,y,z,s = tuple_1"
   ]
  },
  {
   "cell_type": "code",
   "execution_count": 50,
   "metadata": {},
   "outputs": [
    {
     "name": "stdout",
     "output_type": "stream",
     "text": [
      "67\n",
      "65\n",
      "90\n",
      "87\n"
     ]
    }
   ],
   "source": [
    "print(x)\n",
    "print(y)\n",
    "print(z)\n",
    "print(s)"
   ]
  },
  {
   "cell_type": "code",
   "execution_count": 51,
   "metadata": {
    "scrolled": true
   },
   "outputs": [
    {
     "name": "stdout",
     "output_type": "stream",
     "text": [
      "0 a\n",
      "1 b\n",
      "2 c\n",
      "3 d\n",
      "4 e\n"
     ]
    }
   ],
   "source": [
    "letters = ['a', 'b', 'c', 'd', 'e']\n",
    "for i, letter in enumerate(letters):\n",
    "    print(i, letter)"
   ]
  },
  {
   "cell_type": "code",
   "execution_count": 53,
   "metadata": {},
   "outputs": [
    {
     "name": "stdout",
     "output_type": "stream",
     "text": [
      "[(0, ('Ghana', 'Accra', 'Cedis')), (1, ('Togo', 'Lome', 'CFA')), (2, ('Nigeria', 'Abuja', 'Naira')), (3, ('Ivory Coast', 'Abidjan', 'CFA')), (4, ('South Africa', 'Johannesburg', 'Rand'))]\n"
     ]
    }
   ],
   "source": [
    "print(list(enumerate(zipped_countries)))"
   ]
  },
  {
   "cell_type": "markdown",
   "metadata": {},
   "source": [
    "### List Comprehentions\n",
    "\n",
    "List comprehensions allow us to create a list using a for loop in one step.\n",
    "\n",
    "You create a list comprehension with brackets [ ], including an expression to evaluate for each element in an iterable.\n"
   ]
  },
  {
   "cell_type": "code",
   "execution_count": 56,
   "metadata": {},
   "outputs": [
    {
     "name": "stdout",
     "output_type": "stream",
     "text": [
      "[1, 4, 9, 16, 25, 36, 49, 64, 81]\n"
     ]
    }
   ],
   "source": [
    "my_list = []\n",
    "for x in range(1,10):\n",
    "    my_list.append(x**2)\n",
    "print(my_list)"
   ]
  },
  {
   "cell_type": "code",
   "execution_count": 57,
   "metadata": {},
   "outputs": [
    {
     "name": "stdout",
     "output_type": "stream",
     "text": [
      "[1, 4, 9, 16, 25, 36, 49, 64, 81]\n"
     ]
    }
   ],
   "source": [
    "# List comprehension format: \n",
    "# [expression followed by iterable or iteration]\n",
    "#Eg:\n",
    "\n",
    "squares = [x**2 for x in range(1,10)]\n",
    "print(squares)"
   ]
  },
  {
   "cell_type": "code",
   "execution_count": null,
   "metadata": {},
   "outputs": [],
   "source": [
    "squares = []\n",
    "for i in range(1,10):\n",
    "    squares.append(i**2)\n",
    "print(squares)"
   ]
  }
 ],
 "metadata": {
  "kernelspec": {
   "display_name": "Python 3 (ipykernel)",
   "language": "python",
   "name": "python3"
  },
  "language_info": {
   "codemirror_mode": {
    "name": "ipython",
    "version": 3
   },
   "file_extension": ".py",
   "mimetype": "text/x-python",
   "name": "python",
   "nbconvert_exporter": "python",
   "pygments_lexer": "ipython3",
   "version": "3.11.4"
  }
 },
 "nbformat": 4,
 "nbformat_minor": 4
}
